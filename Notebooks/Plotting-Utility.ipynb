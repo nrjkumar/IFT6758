{
 "cells": [
  {
   "cell_type": "code",
   "execution_count": null,
   "outputs": [],
   "source": [
    "import pandas as pd\n",
    "import numpy as np\n",
    "from scipy.ndimage import gaussian_filter\n",
    "import os\n",
    "\n",
    "#DATA_DIR = os.path.join(os.path.dirname(__file__), \"..\", \"ift6758\", \"data\")\n",
    "DATA_DIR = os.path.expanduser(\"~\")+ '/nhlapidata'"
   ],
   "metadata": {
    "collapsed": false
   }
  },
  {
   "cell_type": "code",
   "execution_count": null,
   "outputs": [],
   "source": [
    "def compute_avgshots_league(df: pd.DataFrame, year: int) -> np.array:\n",
    "    '''\n",
    "     Computes the average shots per hour across the league for a season( year)\n",
    "\n",
    "    :param df:  Tidy or cleaned dataframe with x and y axis coordinates used for projection on Half Rink\n",
    "    :param year: season for which average shots per hour are computed\n",
    "    :return: array with shape of 100X85(Rink size)\n",
    "    '''\n",
    "\n",
    "    season = int(str(year) + str(year + 1))\n",
    "\n",
    "    df_copy = df[df[\"season\"] == season].copy()\n",
    "    df_copy[\"coord_tuple\"] = df_copy[[\"x_coordinate_adj\", \"y_coordinate_adj\"]].apply(tuple, axis=1)\n",
    "\n",
    "    league_data = np.zeros((100, 85))\n",
    "\n",
    "    for i, j in df_copy[\"coord_tuple\"]:\n",
    "        if np.isnan(i) or np.isnan(j):\n",
    "            pass\n",
    "        else:\n",
    "            league_data[int(i), int(j)] += 1\n",
    "\n",
    "    # total playtime (in hours) in the season\n",
    "    season_matches_drop = df_copy.drop_duplicates(subset=[\"game_id\"], keep=\"last\")\n",
    "    season_hours = 0\n",
    "    for i, txt in enumerate(season_matches_drop[\"game_time\"]):\n",
    "        time = txt.split(\":\")\n",
    "        hour_match = int(time[0]) / 60.0 + int(time[1]) / 3600.0\n",
    "        season_hours += max(hour_match, 1.0)\n",
    "\n",
    "    # need to count each game time twice as two teams are involved, need to replace with actual calculation of total game time\n",
    "    league_data= league_data/ (season_hours * 2)\n",
    "\n",
    "    return league_data"
   ],
   "metadata": {
    "collapsed": false
   }
  },
  {
   "cell_type": "code",
   "execution_count": null,
   "outputs": [],
   "source": [
    "def compute_team_avg(df, year: int, team: str) -> np.array:\n",
    "    \"\"\"\n",
    "    Computes the average number of shots per hour for 1 team for 1 season.\n",
    "    :param df: tidy frame with xy coordinates projected on a half-rink\n",
    "    :param year: int representation of a year. ex: 2016\n",
    "    :return: np.array with shape 100 X 85 (i.e. the XY half rink plane)\n",
    "    \"\"\"\n",
    "    season = int(str(year) + str(year + 1))\n",
    "\n",
    "    # use date to keep the same match with different date\n",
    "    df_copy = df[df[\"season\"] == season].copy()\n",
    "    df_copy2 = df_copy[df_copy[\"team\"] == team].copy()\n",
    "    df_copy2[\"coord_tuple\"] = df_copy2[[\"x_coordinate_adj\", \"y_coordinate_adj\"]].apply(tuple, axis=1)\n",
    "\n",
    "    data_team = np.zeros((100, 85))\n",
    "\n",
    "    for i, j in df_copy2[\"coord_tuple\"]:\n",
    "        if np.isnan(i) or np.isnan(j):\n",
    "            pass\n",
    "        else:\n",
    "            data_team[int(i), int(j)] += 1\n",
    "\n",
    "    # count team hours\n",
    "    # count match as home & away in the season, drop duplicate for detail match\n",
    "    team_matches_count = df_copy.loc[\n",
    "        (df_copy[\"home_team\"] == team) | (df_copy[\"away_team\"] == team)\n",
    "        ]\n",
    "    team_matches_drop_dup = team_matches_count.drop_duplicates(subset=[\"game_id\"], keep=\"last\")\n",
    "\n",
    "    # use date to keep the same match with different date\n",
    "    team_hours = 0\n",
    "    for i, txt in enumerate(team_matches_drop_dup[\"game_time\"]):\n",
    "        time = txt.split(\":\")\n",
    "        hour_match = int(time[0]) / 60.0 + int(time[1]) / 3600.0\n",
    "        team_hours += max(hour_match, 1.0)\n",
    "\n",
    "    data_team = data_team / team_hours\n",
    "\n",
    "    return data_team"
   ],
   "metadata": {
    "collapsed": false
   }
  }
 ],
 "metadata": {
  "kernelspec": {
   "display_name": "Python 3",
   "language": "python",
   "name": "python3"
  },
  "language_info": {
   "codemirror_mode": {
    "name": "ipython",
    "version": 2
   },
   "file_extension": ".py",
   "mimetype": "text/x-python",
   "name": "python",
   "nbconvert_exporter": "python",
   "pygments_lexer": "ipython2",
   "version": "2.7.6"
  }
 },
 "nbformat": 4,
 "nbformat_minor": 0
}
