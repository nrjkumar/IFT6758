{
 "cells": [
  {
   "cell_type": "code",
   "execution_count": 146,
   "metadata": {},
   "outputs": [],
   "source": [
    "import pandas as pd\n",
    "import numpy as np\n",
    "import json\n",
    "import csv\n",
    "import os\n",
    "from os.path import exists"
   ]
  },
  {
   "cell_type": "markdown",
   "metadata": {},
   "source": [
    "# Retrieving the data"
   ]
  },
  {
   "cell_type": "code",
   "execution_count": 147,
   "metadata": {},
   "outputs": [],
   "source": [
    "# This would be the parameters to receive in the final function\n",
    "gameId = \"2017020001\"\n",
    "path = \"data/\" # \"C:/UdeM-ws/DataScience-A22/IFT6758-Project/data\"\n",
    "\n",
    "# Preparing the variables with the file-names\n",
    "file_name = path + \"play-by-play-\" + gameId + \".json\"\n",
    "output_file = path + \"play-by-play-\" + gameId + \".csv\"\n",
    "\n",
    "# The types of events we're interested in  (referring to 'eventTypeId' from NHL live data):\n",
    "play_types = ['SHOT', 'GOAL']   "
   ]
  },
  {
   "cell_type": "code",
   "execution_count": 148,
   "metadata": {},
   "outputs": [],
   "source": [
    "# Open the input data-file, with the json retrieved from NHL api\n",
    "with open(file_name, 'r') as f :\n",
    "  data = json.load(f)"
   ]
  },
  {
   "cell_type": "code",
   "execution_count": 161,
   "metadata": {},
   "outputs": [],
   "source": [
    "events = data['liveData']['plays']['allPlays']"
   ]
  },
  {
   "cell_type": "markdown",
   "metadata": {},
   "source": [
    "# Filtering the events (shots and goals)"
   ]
  },
  {
   "cell_type": "code",
   "execution_count": 163,
   "metadata": {},
   "outputs": [],
   "source": [
    "# Filtering SHOTs and GOALs\n",
    "shots_data = filter(  lambda x: x['result']['eventTypeId'] in play_types, events)\n",
    "\n",
    "pcolumns = ['eventIdx', 'eventTypeId', 'eventId', 'period', 'periodType', 'periodTime', 'dateTime', 'teamId', 'teamName', 'x', 'y', 'shotType', 'emptyNet', 'strength', 'shooter', 'goalie']\n",
    "\n",
    "if exists(output_file):\n",
    "  os.remove(output_file)\n",
    "with open(output_file, 'a', newline='') as f:\n",
    "  writer = csv.writer(f)\n",
    "  writer.writerow(pcolumns)\n",
    "  for x in shots_data :\n",
    "    # Retrieving nested json data...\n",
    "    x_shooter = \"\"\n",
    "    x_goalie = \"\"\n",
    "    # x_shotType = \"\"\n",
    "    x_emptyNet = \"\"\n",
    "    x_strength = \"\"\n",
    "\n",
    "    if (x['result']['eventTypeId'] == 'GOAL') :\n",
    "      x_strength = x['result']['strength']['name']\n",
    "      x_emptyNet = x['result']['emptyNet']\n",
    "\n",
    "    for player in x['players'] :\n",
    "      if player['playerType'] == \"Shooter\" :\n",
    "        x_shooter = player['player']['fullName']\n",
    "      if player['playerType'] == \"Goalie\" :\n",
    "        x_goalie = player['player']['fullName']\n",
    "\n",
    "\n",
    "    row_x = [x['about']['eventIdx'], \n",
    "          x['result']['eventTypeId'],           \n",
    "          x['about']['eventId'],\n",
    "          x['about']['period'],\n",
    "          x['about']['periodType'], \n",
    "          x['about']['periodTime'], \n",
    "          x['about']['dateTime'],\n",
    "          x['team']['id'],\n",
    "          x['team']['name'],\n",
    "          x['coordinates']['x'],\n",
    "          x['coordinates']['y'],\n",
    "          x['result']['secondaryType'],\n",
    "          x_emptyNet,\n",
    "          x_strength,\n",
    "          x_shooter,\n",
    "          x_goalie  ]  #])\n",
    "    writer.writerow(row_x)\n",
    " "
   ]
  }
 ],
 "metadata": {
  "kernelspec": {
   "display_name": "Python 3.9.13 ('ift6758-conda-env-2')",
   "language": "python",
   "name": "python3"
  },
  "language_info": {
   "codemirror_mode": {
    "name": "ipython",
    "version": 3
   },
   "file_extension": ".py",
   "mimetype": "text/x-python",
   "name": "python",
   "nbconvert_exporter": "python",
   "pygments_lexer": "ipython3",
   "version": "3.9.13"
  },
  "orig_nbformat": 4,
  "vscode": {
   "interpreter": {
    "hash": "96b0d05bee2fc8a05e7c77548b422f2e53c1efd86d2d3e3abd89863541352f12"
   }
  }
 },
 "nbformat": 4,
 "nbformat_minor": 2
}
