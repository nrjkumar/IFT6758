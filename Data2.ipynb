{
 "cells": [
  {
   "cell_type": "code",
   "execution_count": 6,
   "metadata": {},
   "outputs": [],
   "source": [
    "from Data.NHLPlayByPlay import NHLPlayByPlay"
   ]
  },
  {
   "cell_type": "code",
   "execution_count": 7,
   "metadata": {},
   "outputs": [
    {
     "name": "stdout",
     "output_type": "stream",
     "text": [
      "Loaded 106 Games stored in local drive/home/neeraj/Desktop/IFT-6758/nhlapidata/201601.pkl\n",
      "Loaded 1230 Games stored in local drive/home/neeraj/Desktop/IFT-6758/nhlapidata/201602.pkl\n",
      "Loaded 102 Games stored in local drive/home/neeraj/Desktop/IFT-6758/nhlapidata/201603.pkl\n",
      "Loaded 109 Games stored in local drive/home/neeraj/Desktop/IFT-6758/nhlapidata/201701.pkl\n",
      "Loaded 1271 Games stored in local drive/home/neeraj/Desktop/IFT-6758/nhlapidata/201702.pkl\n",
      "Loaded 105 Games stored in local drive/home/neeraj/Desktop/IFT-6758/nhlapidata/201703.pkl\n",
      "Loaded 110 Games stored in local drive/home/neeraj/Desktop/IFT-6758/nhlapidata/201801.pkl\n",
      "Loaded 1271 Games stored in local drive/home/neeraj/Desktop/IFT-6758/nhlapidata/201802.pkl\n",
      "Loaded 105 Games stored in local drive/home/neeraj/Desktop/IFT-6758/nhlapidata/201803.pkl\n",
      "Loaded 107 Games stored in local drive/home/neeraj/Desktop/IFT-6758/nhlapidata/201901.pkl\n",
      "Loaded 1271 Games stored in local drive/home/neeraj/Desktop/IFT-6758/nhlapidata/201902.pkl\n",
      "Loaded 151 Games stored in local drive/home/neeraj/Desktop/IFT-6758/nhlapidata/201903.pkl\n",
      "Loaded 0 Games stored in local drive/home/neeraj/Desktop/IFT-6758/nhlapidata/202001.pkl\n",
      "Loaded 868 Games stored in local drive/home/neeraj/Desktop/IFT-6758/nhlapidata/202002.pkl\n",
      "Loaded 105 Games stored in local drive/home/neeraj/Desktop/IFT-6758/nhlapidata/202003.pkl\n",
      "Downloaded 0 games and saved them to local cache in /home/neeraj/Desktop/IFT-6758/nhlapidata/202101.pkl\n",
      "Downloaded 0 games and saved them to local cache in /home/neeraj/Desktop/IFT-6758/nhlapidata/202102.pkl\n",
      "Downloaded 0 games and saved them to local cache in /home/neeraj/Desktop/IFT-6758/nhlapidata/202103.pkl\n"
     ]
    }
   ],
   "source": [
    "import os\n",
    "from threading import local\n",
    "#Defines the seasons and game types we want to download\n",
    "seasons = [\"2016\",\"2017\",\"2018\",\"2019\",\"2020\",\"2021\"]\n",
    "gameTypes  = [\"01\",\"02\",\"03\"]\n",
    "\n",
    "#Change to the directory of your choice\n",
    "#localCache = os.path.expanduser(\"~\")+\"/nhldata\"\n",
    "localdir = os.getcwd() + '/nhlapidata'\n",
    "#print(localdir)\n",
    "if localdir:\n",
    "    for s in seasons:\n",
    "        for t in gameTypes:\n",
    "            data = NHLPlayByPlay(season=s,GameType=t, localdir=localdir)"
   ]
  },
  {
   "cell_type": "code",
   "execution_count": null,
   "metadata": {},
   "outputs": [],
   "source": [
    "data = NHLPlayByPlay(season=\"2018\",GameType=\"01\",localdir=localdir) + \\\n",
    "       NHLPlayByPlay(season=\"2018\",GameType=\"02\",localdir=localdir) + \\\n",
    "       NHLPlayByPlay(season=\"2018\",GameType=\"03\",localdir=localdir) \n",
    "       #NHLPlayByPlay(season=\"2018\",gameType=\"04\",cacheRepo=localCache)"
   ]
  },
  {
   "cell_type": "code",
   "execution_count": null,
   "metadata": {},
   "outputs": [],
   "source": [
    "import pprint as pp\n",
    "\n",
    "gameData = data.GameData(\"2018\",\"01\")\n",
    "#Lists games of the 2018 pre-season\n",
    "pp.pprint(gameData.keys())"
   ]
  },
  {
   "cell_type": "code",
   "execution_count": null,
   "metadata": {},
   "outputs": [],
   "source": [
    "getdata = NHLPlaybyPlay(season='2017', GameType= '02')\n",
    "getdata.info()\n",
    "# print(getdata)\n",
    "\n",
    "\n",
    "# if GameType ==\"02\":\n",
    "#     localdir = \"Regular\"\n",
    "# elif GameType == \"03\":\n",
    "#     localdir = \"Playoffs\"\n",
    "\n",
    "# environdir  = os.environ.get('')  \n",
    "\n",
    "#data = [json.loads(line)\n",
    "#        for line in open(getdata, 'r', encoding='utf-8')]\n",
    "\n",
    "# 👇️ [{'id': 1, 'name': 'Alice', 'age': 30}, {'id': 2, 'name': 'Bob', 'age': 35}, {'id': 3, 'name': 'carl', 'age': 40}]\n",
    "#print(data)\n"
   ]
  },
  {
   "cell_type": "code",
   "execution_count": null,
   "metadata": {},
   "outputs": [],
   "source": []
  }
 ],
 "metadata": {
  "kernelspec": {
   "display_name": "Python 3.10.4 ('my_conda')",
   "language": "python",
   "name": "python3"
  },
  "language_info": {
   "codemirror_mode": {
    "name": "ipython",
    "version": 3
   },
   "file_extension": ".py",
   "mimetype": "text/x-python",
   "name": "python",
   "nbconvert_exporter": "python",
   "pygments_lexer": "ipython3",
   "version": "3.10.4"
  },
  "orig_nbformat": 4,
  "vscode": {
   "interpreter": {
    "hash": "b8351111c48ac2a6d187e2238bb0f3429ce4146c59d29d199e3fe7d0137bb4b6"
   }
  }
 },
 "nbformat": 4,
 "nbformat_minor": 2
}
